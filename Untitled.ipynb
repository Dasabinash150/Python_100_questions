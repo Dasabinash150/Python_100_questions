{
 "cells": [
  {
   "cell_type": "code",
   "execution_count": 1,
   "id": "7bda56c6-297b-406b-9628-6ea0e4a26a1d",
   "metadata": {},
   "outputs": [
    {
     "name": "stdout",
     "output_type": "stream",
     "text": [
      "17\n"
     ]
    }
   ],
   "source": [
    "arr = [ 1 ,3 , 6 ,7]\n",
    "print(sum(arr))\n"
   ]
  },
  {
   "cell_type": "code",
   "execution_count": 4,
   "id": "d45b8e74-74d2-449b-9ac5-fc6f04f71477",
   "metadata": {},
   "outputs": [
    {
     "ename": "NameError",
     "evalue": "name 'char' is not defined",
     "output_type": "error",
     "traceback": [
      "\u001b[31m---------------------------------------------------------------------------\u001b[39m",
      "\u001b[31mNameError\u001b[39m                                 Traceback (most recent call last)",
      "\u001b[36mCell\u001b[39m\u001b[36m \u001b[39m\u001b[32mIn[4]\u001b[39m\u001b[32m, line 1\u001b[39m\n\u001b[32m----> \u001b[39m\u001b[32m1\u001b[39m \u001b[38;5;28mprint\u001b[39m(\u001b[43mchar\u001b[49m(\u001b[32m1\u001b[39m))\n",
      "\u001b[31mNameError\u001b[39m: name 'char' is not defined"
     ]
    }
   ],
   "source": [
    "print(char(1))"
   ]
  },
  {
   "cell_type": "code",
   "execution_count": null,
   "id": "e82633c3-0d3f-45c6-b7c5-b6e7fbc7c823",
   "metadata": {},
   "outputs": [],
   "source": []
  }
 ],
 "metadata": {
  "kernelspec": {
   "display_name": "Python 3 (ipykernel)",
   "language": "python",
   "name": "python3"
  },
  "language_info": {
   "codemirror_mode": {
    "name": "ipython",
    "version": 3
   },
   "file_extension": ".py",
   "mimetype": "text/x-python",
   "name": "python",
   "nbconvert_exporter": "python",
   "pygments_lexer": "ipython3",
   "version": "3.12.3"
  }
 },
 "nbformat": 4,
 "nbformat_minor": 5
}
