{
 "cells": [
  {
   "cell_type": "markdown",
   "id": "67b241cb-5591-48b2-928d-c46df7197160",
   "metadata": {},
   "source": [
    "# Matplotlib Notes\n",
    "Matplotlib is a Python **library** used for data visualization.  \n",
    "It is mainly used for creating static, animated  plots.\n",
    "pyplot is the most commonly used module of Matplotlib – it provides simple functions to create plots.\n",
    "## Basic Workflow\n",
    "\n",
    "**Prepare Data** → list, NumPy array, Pandas series.\n",
    "**Create Plot** → plt.plot(), plt.bar(), plt.scatter(), etc. \n",
    "**Customize** → title, labels, legend, colors, styles.\n",
    "**Show/Save** → plt.show() / plt.savefig(\"plot.png\").\n",
    "## Example:"
   ]
  },
  {
   "cell_type": "code",
   "execution_count": null,
   "id": "ef0fa2dd-b5d7-4a18-a087-14fafe59208f",
   "metadata": {},
   "outputs": [],
   "source": [
    "import matplotlib as plt\n",
    "print(plt.__version__)"
   ]
  },
  {
   "cell_type": "code",
   "execution_count": null,
   "id": "77a1da38-be16-4726-b7a7-aee6f25e7c06",
   "metadata": {},
   "outputs": [],
   "source": [
    "import matplotlib.pyplot as plt\n",
    "import numpy as np\n",
    "plt.plot([1, 2, 3], [4, 5, 6])\n",
    "plt.title(\"Sample Line Plot\")\n",
    "plt.show()"
   ]
  },
  {
   "cell_type": "markdown",
   "id": "68432e56-fe6a-46fe-a6fc-acc4a85a1f19",
   "metadata": {},
   "source": [
    "## Common Chart Types\n",
    "1. **Line Plot** - Shows trends over time.\n",
    "2. **Bar Chart** - Compares quantities.\n",
    "3. **Scatter Plot** - Shows relationships between variables.\n",
    "4. **Histogram** - Shows frequency distribution.\n",
    "5. **Pie Chart**\n",
    "6. **Stacked Bar Chart**\n",
    "7. **Area Plot**\n",
    "8. **Box Plot (Whisker Plot)**\n",
    "9. **Step Plot**"
   ]
  },
  {
   "cell_type": "markdown",
   "id": "74db5f58-7fc7-4e47-ae6d-0a251e532b85",
   "metadata": {},
   "source": [
    "<h1 style=\"color: red;\"> Bar Plot </h1>"
   ]
  },
  {
   "cell_type": "markdown",
   "id": "e6deff18-52f3-4ddc-a76b-36b45b9fadb3",
   "metadata": {},
   "source": [
    "## What is a Bar Plot?\n",
    "- A **graphical representation** of data using **rectangular bars**.  \n",
    "- The **height/length** of each bar represents the value of a category.  \n",
    "- Can be **vertical** (`plt.bar`) or **horizontal** (`plt.barh`).  \n",
    "---\n",
    "## Why Use a Bar Plot?\n",
    "-  Compare **different categories** easily.  \n",
    "-  Simple and easy to read.  \n",
    "-  Shows **ranking, growth, or decline**.  \n",
    "-  Supports **grouped** and **stacked** data.  \n",
    "---\n",
    "## Examples\n",
    "- Sales of different products  \n",
    "- Population of states  \n",
    "- Students per class  \n",
    "---\n",
    "## One-Liner (Interview Ready)\n",
    "*A bar plot uses rectangular bars to compare categorical data, making it easy to visualize differences between groups.*  \n"
   ]
  },
  {
   "cell_type": "code",
   "execution_count": null,
   "id": "3f77e8dc-f0c2-48d4-a023-001330e96484",
   "metadata": {},
   "outputs": [],
   "source": [
    "# Data\n",
    "categories = ['Apples', 'Bananas','Cherries','Dates']\n",
    "values = [30, 25, 45, 10]\n",
    "\n",
    "# Custom Bar Plot\n",
    "plt.figure(figsize=(8,5))\n",
    "\n",
    "plt.bar(categories, values)\n",
    "plt.show()"
   ]
  },
  {
   "cell_type": "code",
   "execution_count": null,
   "id": "7b2f3526-ef1b-4b2b-b2a4-8b57371a798a",
   "metadata": {},
   "outputs": [],
   "source": [
    "bars = plt.bar(categories,values,\n",
    "        color=['red','yellow','pink','brown'],  # color\n",
    "        edgecolor='b',     # border color \n",
    "        linewidth=1.5,    # Border thickness\n",
    "        alpha=0.8,       # Transparancy\n",
    "       width=0.4)  \n",
    "# Add grid\n",
    "plt.grid(axis='y', linestyle='--', alpha=0.7)\n",
    "# Title and labels\n",
    "plt.title(\"Fruit Sales in 2025\", fontsize=16, fontweight=\"bold\", color=\"navy\")\n",
    "plt.xlabel(\"Fruit\", fontsize=12)\n",
    "plt.ylabel(\"Quantity Sold\", fontsize=12)\n",
    "# Add values on top of bars\n",
    "for bar in bars:\n",
    "    plt.text(bar.get_x() + bar.get_width()/2,        # X position (middle of bar)\n",
    "             bar.get_height() + 1,                   # Y position (above bar)\n",
    "             str(bar.get_height()),                  # Text = value\n",
    "             ha='center', va='bottom', fontsize=10, fontweight=\"bold\")"
   ]
  },
  {
   "cell_type": "code",
   "execution_count": null,
   "id": "4a066eb9-a5fc-4e91-b22a-1095471a2a33",
   "metadata": {},
   "outputs": [],
   "source": [
    "#  Bar Plot with Legend & Title Position\n",
    "import matplotlib.pyplot as plt\n",
    "# Data\n",
    "categories = ['Apples', 'Bananas', 'Cherries', 'Dates']\n",
    "values1 = [30, 25, 45, 10]\n",
    "values2 = [20, 15, 35, 5]\n",
    "\n",
    "plt.figure(figsize=(8,5))\n",
    "\n",
    "# Two sets of bars (grouped bar chart)\n",
    "plt.bar(categories, values1, label=\"2024 Sales\", color=\"skyblue\", width=0.4, align=\"edge\")\n",
    "plt.bar(categories, values2, label=\"2025 Sales\", color=\"orange\", width=-0.4, align=\"edge\")\n",
    "\n",
    "# Title with position\n",
    "plt.title(\"Fruit Sales Comparison\", fontsize=16, fontweight=\"bold\", loc=\"left\")  \n",
    "# loc options: 'left', 'center', 'right'\n",
    "# Axis labels\n",
    "plt.xlabel(\"Fruit\")\n",
    "plt.ylabel(\"Quantity Sold\")\n",
    "# Legend position\n",
    "plt.legend(title=\"Expense Type\",loc=\"upper right\")  \n",
    "# Common options: 'upper right', 'upper left', 'lower right', 'lower left', 'best'\n",
    "plt.grid(axis='y', linestyle=\"--\", alpha=0.7)\n",
    "plt.show()\n"
   ]
  },
  {
   "cell_type": "markdown",
   "id": "e0f0c9a9-d854-454e-be6e-16bad308d576",
   "metadata": {},
   "source": [
    "<h1 style=\"color: red;\"> Scatter Plot </h1>"
   ]
  },
  {
   "cell_type": "markdown",
   "id": "ba8508f1-5ccc-455f-abe9-bf96f67e252a",
   "metadata": {},
   "source": [
    "## Example 1: Basic Scatter Plot"
   ]
  },
  {
   "cell_type": "code",
   "execution_count": null,
   "id": "87fb4dbb-dec1-461a-a69c-0fda431645c6",
   "metadata": {},
   "outputs": [],
   "source": [
    "male_height = [160, 170, 180, 175]\n",
    "male_weight = [55, 70, 80, 75]\n",
    "female_height = [150, 165, 172, 168]\n",
    "female_weight = [48, 58, 65, 60]\n",
    "\n",
    "plt.scatter(male_height, male_weight, color=\"blue\", marker=\"o\", s=90, label=\"Male\")\n",
    "plt.scatter(female_height, female_weight, color=\"magenta\", marker=\"^\", s=90, label=\"Female\")\n",
    "plt.title(\"Height vs Weight Distribution\")\n",
    "plt.xlabel(\"Height (cm)\")\n",
    "plt.ylabel(\"Weight (kg)\")\n",
    "plt.legend(title=\"Gender\")\n",
    "plt.grid(True, linestyle=\"--\", alpha=0.5)\n",
    "plt.show()\n"
   ]
  },
  {
   "cell_type": "markdown",
   "id": "8cf13fd4-1067-4657-9fef-aad57536d416",
   "metadata": {},
   "source": [
    "### Key Customizations\n",
    "\n",
    "- **color** : Set point color (`\"red\"`, `\"blue\"`, `\"green\"`, etc.)  \n",
    "- **marker** : Shape of points (`'o'`=circle, `'^'`=triangle, `'s'`=square, `'x'`=cross, `'*'`=star, etc.)  \n",
    "- **s** : Size of points (larger value = bigger points)  \n",
    "- **c** : Apply **color mapping** (based on another variable → gradient effect)  \n",
    "- **alpha** : Transparency (0 = fully transparent, 1 = opaque)  \n",
    "- **plt.legend(title=\"...\")** : Adds legend with a **custom title**  \n",
    "- **plt.colorbar()** : Adds color reference scale (when using `c` with colormap)  \n",
    "\n",
    "---\n",
    "\n",
    "## Example Code\n"
   ]
  },
  {
   "cell_type": "code",
   "execution_count": null,
   "id": "b94f12ed-1f44-4e55-8a6a-7123728577c7",
   "metadata": {},
   "outputs": [],
   "source": [
    "import matplotlib.pyplot as plt\n",
    "import numpy as np\n",
    "\n",
    "# Data\n",
    "x = np.random.rand(50)\n",
    "y = np.random.rand(50)\n",
    "sizes = np.random.randint(50, 300, size=50)  # point sizes\n",
    "colors = np.random.rand(50)  # color values\n",
    "\n",
    "plt.scatter(x, y, \n",
    "            s=sizes,         # size of points\n",
    "            c=colors,        # color mapping\n",
    "            cmap=\"viridis\",  # colormap\n",
    "            alpha=0.7, \n",
    "            marker=\"o\", \n",
    "            edgecolors=\"black\",\n",
    "            label=\"Data Points\")\n",
    "\n",
    "plt.title(\"Customized Scatter Plot\", fontsize=14, fontweight=\"bold\")\n",
    "plt.xlabel(\"X-axis\")\n",
    "plt.ylabel(\"Y-axis\")\n",
    "\n",
    "plt.legend(title=\"Legend Example\")\n",
    "plt.colorbar(label=\"Color Intensity\")  # color scale\n",
    "\n",
    "plt.show()\n"
   ]
  },
  {
   "cell_type": "markdown",
   "id": "d6f2ce18-c533-4347-8843-f8e2ddc8b5de",
   "metadata": {},
   "source": [
    "## 5. Multiple Plots\n",
    "```python\n",
    "x = np.linspace(0,10,100)\n",
    "fig, axs = plt.subplots(2, 2, figsize=(8,6))\n",
    "\n",
    "axs[0,0].plot(x, np.sin(x))\n",
    "axs[0,1].plot(x, np.cos(x))\n",
    "axs[1,0].plot(x, np.tan(x))\n",
    "axs[1,1].hist(np.random.randn(100))\n",
    "plt.tight_layout()\n",
    "```"
   ]
  },
  {
   "cell_type": "markdown",
   "id": "595bade4-a204-4215-8650-e7d42685fda0",
   "metadata": {},
   "source": [
    "## Bar Plot Example with Legend & Title Position"
   ]
  },
  {
   "cell_type": "code",
   "execution_count": null,
   "id": "a92f4730-6dc6-4114-b34d-2f1c24a430d6",
   "metadata": {},
   "outputs": [],
   "source": [
    "import matplotlib.pyplot as plt\n",
    "\n",
    "# Data\n",
    "months = [\"Jan\", \"Feb\", \"Mar\", \"Apr\", \"May\"]\n",
    "food_exp = [2500, 2700, 2600, 2800, 3000]\n",
    "travel_exp = [1200, 1100, 1000, 1300, 1400]\n",
    "\n",
    "plt.figure(figsize=(9,6))\n",
    "\n",
    "# Plotting grouped bars\n",
    "plt.bar(months, food_exp, label=\"Food\", color=\"teal\", width=0.4, align=\"edge\")\n",
    "plt.bar(months, travel_exp, label=\"Travel\", color=\"salmon\", width=-0.4, align=\"edge\")\n",
    "\n",
    "# Title (custom position)\n",
    "plt.title(\"Monthly Expenses - 2025\", fontsize=16, fontweight=\"bold\", loc=\"right\")\n",
    "\n",
    "# Labels\n",
    "plt.xlabel(\"Month\", fontsize=12)\n",
    "plt.ylabel(\"Expenses (INR)\", fontsize=12)\n",
    "\n",
    "# Legend (custom position)\n",
    "plt.legend(loc=\"upper left\", fontsize=11)\n",
    "\n",
    "# Grid\n",
    "plt.grid(axis=\"y\", linestyle=\"--\", alpha=0.6)\n",
    "\n",
    "plt.show()\n"
   ]
  },
  {
   "cell_type": "markdown",
   "id": "404cfd82-eae8-4222-9df5-287a395c86f3",
   "metadata": {},
   "source": [
    "<h1 style=\"color: red;\"> Histogram Plot </h1>"
   ]
  },
  {
   "cell_type": "markdown",
   "id": "3879d9ed-1a34-4280-ba31-6367a374d042",
   "metadata": {},
   "source": [
    "## What is a Histogram?\n",
    "- A **graphical representation** of the **distribution of numerical data**.  \n",
    "- Shows how data is divided into **intervals (bins)** and the **frequency** of values in each bin.  \n",
    "- Useful for **data analysis, probability distribution, and pattern detection**.\n",
    "\n",
    "---\n",
    "\n",
    "## Key Parameters\n",
    "- **bins** : Number of intervals (e.g., `bins=10`)  \n",
    "- **color** : Fill color of bars  \n",
    "- **edgecolor** : Border color of bars  \n",
    "- **alpha** : Transparency (0 → invisible, 1 → opaque)  \n",
    "- **density=True** : Normalize histogram (probability distribution instead of counts)  \n",
    "- **histtype** : Style of histogram (`'bar'`, `'barstacked'`, `'step'`, `'stepfilled'`)  \n",
    "- **cumulative=True** : Cumulative frequency  \n",
    "\n",
    "---\n",
    "\n",
    "### Example 1: Basic Histogram\n"
   ]
  },
  {
   "cell_type": "code",
   "execution_count": null,
   "id": "eecfb352-f8e2-470f-8fae-0270f6e6c51f",
   "metadata": {},
   "outputs": [],
   "source": [
    "import matplotlib.pyplot as plt\n",
    "import numpy as np\n",
    "\n",
    "data = np.random.randn(1000)  # Normal distribution\n",
    "\n",
    "plt.hist(data, bins=20, color=\"skyblue\", edgecolor=\"black\")\n",
    "plt.title(\"Basic Histogram\")\n",
    "plt.xlabel(\"Value Ranges\")\n",
    "plt.ylabel(\"Frequency\")\n",
    "plt.show()"
   ]
  },
  {
   "cell_type": "markdown",
   "id": "532221ba-8ede-4cad-a991-969feb7d2028",
   "metadata": {},
   "source": [
    "## Why Use Histogram?\n",
    "- To **understand distribution** of data (how values spread across ranges).  \n",
    "- Helps in detecting:  \n",
    "  - **Skewness** (left/right shift of data)  \n",
    "  - **Spread** (how wide values are)  \n",
    "  - **Outliers** (extreme values)  \n",
    "- Widely used in **EDA (Exploratory Data Analysis)**, statistics, and **Machine Learning preprocessing**.  \n",
    "\n",
    "---\n",
    "\n",
    "### Real-Life Example: Student Exam Scores\n"
   ]
  },
  {
   "cell_type": "code",
   "execution_count": null,
   "id": "5e266b6d-7373-4b27-bcd3-9633211a2ec5",
   "metadata": {},
   "outputs": [],
   "source": [
    "import matplotlib.pyplot as plt\n",
    "import numpy as np\n",
    "\n",
    "# Example: Scores of 100 students\n",
    "np.random.seed(42)\n",
    "scores = np.random.randint(35, 100, 100)  # random marks between 35 and 100\n",
    "\n",
    "plt.hist(scores, bins=10, color=\"teal\", edgecolor=\"black\", alpha=0.7)\n",
    "\n",
    "plt.title(\"Distribution of Student Exam Scores\", fontsize=14, fontweight=\"bold\")\n",
    "plt.xlabel(\"Score Ranges\")\n",
    "plt.ylabel(\"Number of Students\")\n",
    "plt.grid(axis=\"y\", linestyle=\"--\", alpha=0.6)\n",
    "plt.show()"
   ]
  },
  {
   "cell_type": "markdown",
   "id": "92d69728-50f6-4cb6-81b1-e7d1f6eaba9f",
   "metadata": {},
   "source": [
    "### Real-Life Example: Employee Salaries"
   ]
  },
  {
   "cell_type": "code",
   "execution_count": null,
   "id": "e207bcdc-1694-45eb-92f5-8b3c56a772db",
   "metadata": {},
   "outputs": [],
   "source": [
    "salaries = np.random.randint(20000, 100000, 200)  # salaries of 200 employees\n",
    "plt.hist(salaries, bins=15, color=\"orange\", edgecolor=\"black\", alpha=0.8)\n",
    "plt.title(\"Distribution of Employee Salaries\", fontsize=14, fontweight=\"bold\")\n",
    "plt.xlabel(\"Salary Range\")\n",
    "plt.ylabel(\"Number of Employees\")\n",
    "plt.grid(axis=\"y\", linestyle=\"--\", alpha=0.6)\n",
    "plt.show()"
   ]
  },
  {
   "cell_type": "markdown",
   "id": "5a28c04d-0f1b-414a-80fb-b0f4e6a5a2c4",
   "metadata": {},
   "source": [
    "Shows the spread of salaries across ranges.\n",
    "\n",
    "HR can identify:\n",
    "\n",
    "Most common salary brackets\n",
    "\n",
    "Presence of very high or very low earners\n",
    "\n",
    "Useful for policy decisions, increments, and budgeting"
   ]
  },
  {
   "cell_type": "markdown",
   "id": "766b75b5-6d32-44d0-808a-2fd313395b04",
   "metadata": {},
   "source": [
    "<h1 style=\"color: red;\"> Pie Chart </h1>"
   ]
  },
  {
   "cell_type": "markdown",
   "id": "9192671f-bbd0-4fbe-b3cb-244378dd68fa",
   "metadata": {},
   "source": [
    "## What is a Pie Chart?  \n",
    "- A circular chart divided into slices.  \n",
    "- Each slice represents a **proportion of the whole**.  \n",
    "- Best for **percentage or part-to-whole comparisons**.  \n",
    "\n",
    "---\n",
    "\n",
    "##  Why Use a Pie Chart?  \n",
    "- To **visualize proportions** of categories.  \n",
    "- Easy to understand with **few categories (≤ 6)**.  \n",
    "- Not suitable for large categories (use bar chart instead).  \n",
    "\n",
    "---\n",
    "\n",
    "## Syntax  \n",
    "```python\n",
    "plt.pie(values, labels=categories, autopct='%1.1f%%', startangle=90)\n"
   ]
  },
  {
   "cell_type": "markdown",
   "id": "179f071a-0bbd-46ad-b3f9-774331addf8b",
   "metadata": {},
   "source": [
    "### Example : Sales Distribution"
   ]
  },
  {
   "cell_type": "code",
   "execution_count": null,
   "id": "1919f2f6-a1a2-4a38-b35c-0eb8e083de52",
   "metadata": {},
   "outputs": [],
   "source": [
    "import matplotlib.pyplot as plt\n",
    "\n",
    "# Data\n",
    "products = ['Electronics', 'Clothing', 'Groceries', 'Books']\n",
    "sales = [45000, 30000, 15000, 10000]\n",
    "\n",
    "# Plot\n",
    "plt.figure(figsize=(6,6))\n",
    "plt.pie(sales, \n",
    "        labels=products, \n",
    "        autopct='%1.1f%%', \n",
    "        startangle=90, \n",
    "        colors=['skyblue','lightgreen','orange','pink'], \n",
    "        explode=[0.1,0,0,0],  # highlight Electronics\n",
    "        shadow=True)\n",
    "\n",
    "plt.title(\"Sales Distribution by Category\")\n",
    "plt.legend(title=\"Product Categories\")\n",
    "plt.show()\n"
   ]
  },
  {
   "cell_type": "markdown",
   "id": "90f1fb7c-6dd7-4215-962a-9b562bb0b51a",
   "metadata": {},
   "source": [
    "### Key Customizations in Pie Chart\n",
    "\n",
    "- **labels** → category names  \n",
    "- **autopct** → show percentages on slices (e.g., `'%1.1f%%'`)  \n",
    "- **colors** → custom colors for slices  \n",
    "- **explode** → separate a slice for emphasis (e.g., `[0.1, 0, 0, 0]`)  \n",
    "- **shadow=True** → add shadow for 3D effect  \n",
    "- **startangle** → rotate chart (e.g., `90` starts from top)  \n",
    "- **plt.legend(title=\"...\")** → add legend with a title  \n"
   ]
  },
  {
   "cell_type": "markdown",
   "id": "1684076f-2a23-422b-afe5-d86e0b5bbb65",
   "metadata": {},
   "source": [
    "**<hr/>**\n",
    "\n",
    "----"
   ]
  },
  {
   "cell_type": "markdown",
   "id": "75b46042-e4cf-4dba-a4b6-37272a411765",
   "metadata": {},
   "source": [
    "# Subplots in Matplotlib\n",
    "\n",
    "Subplots allow you to create **multiple plots in a single figure**, useful for comparing datasets side by side.  \n",
    "\n",
    "---\n",
    "\n",
    "## Methods to Create Subplots\n",
    "\n",
    "### 1. **`plt.subplot(rows, cols, index)`**\n",
    "- Creates a single subplot inside a grid.\n",
    "- `rows`: total rows of subplots  \n",
    "- `cols`: total columns of subplots  \n",
    "- `index`: position of current plot (starts from 1)\n",
    "\n",
    "---\n",
    "\n",
    "### 2. **`plt.subplots(rows, cols)`**\n",
    "- Returns a **figure (`fig`)** and **axes (`ax`)** object.  \n",
    "- More flexible (you can loop through axes).  \n",
    "- Allows easy customization.\n",
    "\n",
    "---\n",
    "\n",
    "## Key Customizations\n",
    "- `figsize=(w, h)` → control figure size  \n",
    "- `sharex`, `sharey` → share axis across subplots  \n",
    "- `tight_layout()` → auto adjust spacing  \n",
    "- `fig.suptitle(\"...\")` → overall title  \n",
    "\n",
    "---\n",
    "\n",
    "### Example 1: Using `plt.subplot`"
   ]
  },
  {
   "cell_type": "code",
   "execution_count": null,
   "id": "ef413bab-dbdc-422d-b441-10d462257d9f",
   "metadata": {},
   "outputs": [],
   "source": [
    "import matplotlib.pyplot as plt\n",
    "\n",
    "x = [1,2,3,4,5]\n",
    "y1 = [1,4,9,16,25]\n",
    "y2 = [25,16,9,4,1]\n",
    "\n",
    "plt.figure(figsize=(8,4))\n",
    "\n",
    "plt.subplot(1,2,1)   # 1 row, 2 columns, 1st plot\n",
    "plt.plot(x, y1, color=\"blue\")\n",
    "plt.title(\"Square Numbers\")\n",
    "\n",
    "plt.subplot(1,2,2)   # 1 row, 2 columns, 2nd plot\n",
    "plt.plot(x, y2, color=\"red\")\n",
    "plt.title(\"Reverse Numbers\")\n",
    "\n",
    "plt.suptitle(\"Comparison of Plots\", fontsize=14, fontweight=\"bold\")\n",
    "plt.tight_layout()\n",
    "plt.show()"
   ]
  },
  {
   "cell_type": "markdown",
   "id": "6ff80a39-a6ae-403d-ab34-c7d20bd15be7",
   "metadata": {},
   "source": [
    "\n",
    "## 6. Styling Options\n",
    "- **Line Style:** `'-'`, `'--'`, `':'`, `'-.'`\n",
    "- **Markers:** `'o'`, `'*'`, `'s'`, `'d'`, `'+'`\n",
    "- **Colors:** `'r'`, `'g'`, `'b'`, `'c'`, `'m'`, `'y'`, `'k'`\n",
    "- **Grid:** `plt.grid(True)`\n",
    "- **Transparency:** `alpha=0.5`\n",
    "\n",
    "\n",
    "## 7. Annotations & Text\n",
    "```python\n",
    "plt.plot([1,2,3,4],[10,20,25,30])\n",
    "plt.annotate(\"Peak\", xy=(3,25), xytext=(2,27), \n",
    "             arrowprops=dict(facecolor='black', shrink=0.05))\n",
    "```\n",
    "\n",
    "## 8. Save Plots\n",
    "```python\n",
    "plt.savefig(\"figure.png\", dpi=300, bbox_inches=\"tight\")\n",
    "```\n",
    "\n",
    "---\n",
    "\n",
    "## 9. Useful Functions\n",
    "- `plt.figure(figsize=(w,h))` → change figure size  \n",
    "- `plt.xlim(), plt.ylim()` → set axis limits  \n",
    "- `plt.xticks(), plt.yticks()` → set ticks  \n",
    "- `plt.style.use(\"ggplot\")` → use predefined style  \n",
    "\n",
    "---\n",
    "\n",
    "## 10. Common Interview Qs\n",
    "1. **Difference between `figure` and `axes`?**  \n",
    "   - *Figure = entire canvas, Axes = one plot inside it.*  \n",
    "2. **How to plot multiple plots in one figure?**  \n",
    "   - Use `plt.subplot()` or `plt.subplots()`.  \n",
    "3. **What is difference between `plt.plot()` and `ax.plot()`?**  \n",
    "   - `plt.plot()` → state-based (quick plotting).  \n",
    "   - `ax.plot()` → object-oriented (preferred for multiple plots).  \n"
   ]
  }
 ],
 "metadata": {
  "kernelspec": {
   "display_name": "Python 3 (ipykernel)",
   "language": "python",
   "name": "python3"
  },
  "language_info": {
   "codemirror_mode": {
    "name": "ipython",
    "version": 3
   },
   "file_extension": ".py",
   "mimetype": "text/x-python",
   "name": "python",
   "nbconvert_exporter": "python",
   "pygments_lexer": "ipython3",
   "version": "3.12.3"
  }
 },
 "nbformat": 4,
 "nbformat_minor": 5
}
