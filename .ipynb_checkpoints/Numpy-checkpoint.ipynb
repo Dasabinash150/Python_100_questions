{
 "cells": [
  {
   "cell_type": "code",
   "execution_count": 7,
   "id": "a6648126-7cfa-493d-a84c-3bdd3cee8338",
   "metadata": {},
   "outputs": [
    {
     "name": "stdout",
     "output_type": "stream",
     "text": [
      "[2 4 5 6 7 3]\n"
     ]
    }
   ],
   "source": [
    "import numpy as np\n",
    "arr = np.array([2, 4, 5, 6, 7, 3])\n",
    "print(arr)"
   ]
  },
  {
   "cell_type": "code",
   "execution_count": 8,
   "id": "1555f756-67e8-4c38-b428-02e9df683bcd",
   "metadata": {},
   "outputs": [
    {
     "name": "stdout",
     "output_type": "stream",
     "text": [
      "[2 3 4 5 6 7]\n"
     ]
    }
   ],
   "source": [
    "print(np.sort(arr))"
   ]
  },
  {
   "cell_type": "code",
   "execution_count": 9,
   "id": "219b4722-8710-4291-85be-0eaacc9c4937",
   "metadata": {},
   "outputs": [
    {
     "name": "stdout",
     "output_type": "stream",
     "text": [
      "[0 5 1 2 3 4]\n"
     ]
    }
   ],
   "source": [
    "print(np.argsort(arr)) # return indices number"
   ]
  },
  {
   "cell_type": "code",
   "execution_count": 14,
   "id": "86b8a501-81f5-4536-a011-79ece9790e58",
   "metadata": {},
   "outputs": [
    {
     "name": "stdout",
     "output_type": "stream",
     "text": [
      "None\n"
     ]
    }
   ],
   "source": [
    "print(np.ndarray.sort(arr))"
   ]
  },
  {
   "cell_type": "code",
   "execution_count": 16,
   "id": "045cdb33-d43a-428d-ab28-30b243a39d47",
   "metadata": {},
   "outputs": [
    {
     "name": "stdout",
     "output_type": "stream",
     "text": [
      "[7 6 5 4 3 2]\n"
     ]
    }
   ],
   "source": [
    "print(np.sort(arr)[::-1])  # return reverse sorted array"
   ]
  },
  {
   "cell_type": "code",
   "execution_count": 18,
   "id": "51049399-47de-488d-a61c-4fd587f2e315",
   "metadata": {},
   "outputs": [
    {
     "name": "stdout",
     "output_type": "stream",
     "text": [
      "[2 3 4 5 6 7]\n"
     ]
    }
   ],
   "source": [
    "arr.sort()\n",
    "print(arr)"
   ]
  },
  {
   "cell_type": "code",
   "execution_count": 21,
   "id": "5ac8137c-6e45-4d02-a1fe-4df3b2b74696",
   "metadata": {},
   "outputs": [
    {
     "name": "stdout",
     "output_type": "stream",
     "text": [
      "[[12 11 15]\n",
      " [21 25 20]\n",
      " [18 19 28]]\n",
      "Sorted array\n",
      "[[11 12 15]\n",
      " [20 21 25]\n",
      " [18 19 28]]\n"
     ]
    }
   ],
   "source": [
    "# Sort 2D array\n",
    "arr = np.array([[12,11,15],[21,25,20],[18,19,28]])\n",
    "print(arr)\n",
    "print(\"Sorted array\")\n",
    "y = np.sort(arr)\n",
    "print(y)"
   ]
  },
  {
   "cell_type": "code",
   "execution_count": 23,
   "id": "334320f6-ad70-4617-9529-7d94061a99b5",
   "metadata": {},
   "outputs": [
    {
     "name": "stdout",
     "output_type": "stream",
     "text": [
      "[[12 11 15]\n",
      " [18 19 20]\n",
      " [21 25 28]]\n"
     ]
    }
   ],
   "source": [
    "y = np.sort(arr, axis = 0)   #column wise sorting\n",
    "print(y)"
   ]
  },
  {
   "cell_type": "code",
   "execution_count": 24,
   "id": "7781eca9-c5b8-4057-a521-93c7bf1849ec",
   "metadata": {
    "scrolled": true
   },
   "outputs": [
    {
     "name": "stdout",
     "output_type": "stream",
     "text": [
      "[[[13 12  4]\n",
      "  [21 32 43]]\n",
      "\n",
      " [[11 21 32]\n",
      "  [22 21 13]]]\n"
     ]
    }
   ],
   "source": [
    "arr1 = np.array([[[13,12,4],[21,32,43]],[[11,21,32],[22,21,13]]])\n",
    "print(arr1)"
   ]
  },
  {
   "cell_type": "code",
   "execution_count": 25,
   "id": "93f7819f-b685-4e64-a2d2-029dc34696c5",
   "metadata": {},
   "outputs": [
    {
     "name": "stdout",
     "output_type": "stream",
     "text": [
      "[[[ 4 12 13]\n",
      "  [21 32 43]]\n",
      "\n",
      " [[11 21 32]\n",
      "  [13 21 22]]]\n"
     ]
    }
   ],
   "source": [
    "print(np.sort(arr1))"
   ]
  },
  {
   "cell_type": "code",
   "execution_count": 27,
   "id": "ac637781-e247-41e1-ba39-a32bc2432dfb",
   "metadata": {},
   "outputs": [
    {
     "name": "stdout",
     "output_type": "stream",
     "text": [
      "[[[11 12  4]\n",
      "  [21 21 13]]\n",
      "\n",
      " [[13 21 32]\n",
      "  [22 32 43]]]\n"
     ]
    }
   ],
   "source": [
    "print(np.sort(arr1, axis = 0))"
   ]
  },
  {
   "cell_type": "markdown",
   "id": "60f9a521-af00-43b5-b81e-0470fb1bfb97",
   "metadata": {},
   "source": [
    "### Matrix operations"
   ]
  },
  {
   "cell_type": "code",
   "execution_count": 31,
   "id": "3261c052-3508-4376-82a6-b45128a64d6c",
   "metadata": {},
   "outputs": [
    {
     "name": "stdout",
     "output_type": "stream",
     "text": [
      "[[1 2]\n",
      " [3 4]] \n",
      " [[11 12]\n",
      " [13 14]]\n"
     ]
    }
   ],
   "source": [
    "# Addition \n",
    "x = np.array([[1,2],[3,4]])\n",
    "y = np.array([[11,12],[13,14]])\n",
    "print(x,\"\\n\", y)"
   ]
  },
  {
   "cell_type": "code",
   "execution_count": 35,
   "id": "18c2a2cf-b7da-40b0-aaa4-564defcdf7e4",
   "metadata": {},
   "outputs": [
    {
     "name": "stdout",
     "output_type": "stream",
     "text": [
      "[[12 14]\n",
      " [16 18]]\n",
      "[[-10 -10]\n",
      " [-10 -10]]\n",
      "[[11 24]\n",
      " [39 56]]\n",
      "[[11  6]\n",
      " [ 4  3]]\n",
      "[[0.09 0.17]\n",
      " [0.23 0.29]]\n"
     ]
    }
   ],
   "source": [
    "a = x + y\n",
    "b = x - y\n",
    "c = x * y\n",
    "d = y // x\n",
    "e =  np.round((x / y), 2)\n",
    "print(a)\n",
    "print(b)\n",
    "print(c)\n",
    "print(d)\n",
    "print(e)"
   ]
  },
  {
   "cell_type": "code",
   "execution_count": 36,
   "id": "8e2c9b86-8759-4d84-9cc3-a8a47f26ddfa",
   "metadata": {},
   "outputs": [
    {
     "name": "stdout",
     "output_type": "stream",
     "text": [
      "[[37 40]\n",
      " [85 92]]\n"
     ]
    }
   ],
   "source": [
    "# Matrix Multiplication\n",
    "z = x @ y\n",
    "print(z)\n"
   ]
  },
  {
   "cell_type": "code",
   "execution_count": 38,
   "id": "a344422a-03a0-4753-8ccb-4853d775d27e",
   "metadata": {},
   "outputs": [
    {
     "name": "stdout",
     "output_type": "stream",
     "text": [
      "[[37 40]\n",
      " [85 92]]\n"
     ]
    }
   ],
   "source": [
    "z = np.dot(x,y)\n",
    "print(z)"
   ]
  },
  {
   "cell_type": "code",
   "execution_count": 39,
   "id": "dd5af1e5-a586-463a-a288-0d713e2e845b",
   "metadata": {},
   "outputs": [
    {
     "name": "stdout",
     "output_type": "stream",
     "text": [
      "[[1 3]\n",
      " [2 4]]\n"
     ]
    }
   ],
   "source": [
    "z = np.transpose(x)\n",
    "print(z)"
   ]
  },
  {
   "cell_type": "code",
   "execution_count": 40,
   "id": "ede04f63-a185-4160-bf9d-37a83d950894",
   "metadata": {},
   "outputs": [
    {
     "name": "stdout",
     "output_type": "stream",
     "text": [
      "[[1 3]\n",
      " [2 4]]\n"
     ]
    }
   ],
   "source": [
    "print(x.T)"
   ]
  },
  {
   "cell_type": "markdown",
   "id": "aeb54c96-90a9-41a8-97d9-b093e83b9cb9",
   "metadata": {},
   "source": [
    "## Loops"
   ]
  },
  {
   "cell_type": "code",
   "execution_count": 42,
   "id": "198959b8-440c-45ce-8c4c-445c95521a3a",
   "metadata": {},
   "outputs": [
    {
     "name": "stdout",
     "output_type": "stream",
     "text": [
      "[ 0  1  2  3  4  5  6  7  8  9 10]\n"
     ]
    }
   ],
   "source": [
    "x = np.arange(0,11)\n",
    "print(x)"
   ]
  },
  {
   "cell_type": "code",
   "execution_count": 43,
   "id": "aad88ac8-c62d-4cc1-b086-d69f21f5bce2",
   "metadata": {},
   "outputs": [
    {
     "name": "stdout",
     "output_type": "stream",
     "text": [
      "0\n",
      "1\n",
      "2\n",
      "3\n",
      "4\n",
      "5\n",
      "6\n",
      "7\n",
      "8\n",
      "9\n",
      "10\n"
     ]
    }
   ],
   "source": [
    "for i in x:\n",
    "    print(i)"
   ]
  },
  {
   "cell_type": "code",
   "execution_count": 46,
   "id": "fba770b5-898e-427a-ac1d-cfcec57f2923",
   "metadata": {},
   "outputs": [
    {
     "name": "stdout",
     "output_type": "stream",
     "text": [
      "[[ 0  1  2]\n",
      " [ 3  4  5]\n",
      " [ 6  7  8]\n",
      " [ 9 10 11]]\n"
     ]
    }
   ],
   "source": [
    "# Iterating in 2D arrray \n",
    "x = np.arange(0,12).reshape(4,3)\n",
    "print(x)"
   ]
  },
  {
   "cell_type": "code",
   "execution_count": 49,
   "id": "6ca0878a-48b9-47e3-9273-b0bf07cb5566",
   "metadata": {},
   "outputs": [
    {
     "name": "stdout",
     "output_type": "stream",
     "text": [
      "0\n",
      "1\n",
      "2\n",
      "3\n",
      "4\n",
      "5\n",
      "6\n",
      "7\n",
      "8\n",
      "9\n",
      "10\n",
      "11\n"
     ]
    }
   ],
   "source": [
    "for i in x:\n",
    "    for j in i:\n",
    "        print(j)"
   ]
  },
  {
   "cell_type": "code",
   "execution_count": 50,
   "id": "97b235c4-c38e-4e92-bc77-f8e14a1de425",
   "metadata": {},
   "outputs": [
    {
     "name": "stdout",
     "output_type": "stream",
     "text": [
      "[[[ 0  1  2]\n",
      "  [ 3  4  5]]\n",
      "\n",
      " [[ 6  7  8]\n",
      "  [ 9 10 11]]]\n"
     ]
    }
   ],
   "source": [
    "x = np.arange(12).reshape(2,2,3)\n",
    "print(x)"
   ]
  },
  {
   "cell_type": "code",
   "execution_count": 51,
   "id": "d3ecc490-d490-420e-8f27-3ffb3bedf9cf",
   "metadata": {},
   "outputs": [
    {
     "name": "stdout",
     "output_type": "stream",
     "text": [
      "0\n",
      "1\n",
      "2\n",
      "3\n",
      "4\n",
      "5\n",
      "6\n",
      "7\n",
      "8\n",
      "9\n",
      "10\n",
      "11\n"
     ]
    }
   ],
   "source": [
    "for i in x:\n",
    "    for j in i:\n",
    "        for m in j:\n",
    "            print(m)"
   ]
  },
  {
   "cell_type": "code",
   "execution_count": 59,
   "id": "a8514cdc-4e70-4698-a50e-5bfe90d2781e",
   "metadata": {},
   "outputs": [
    {
     "name": "stdout",
     "output_type": "stream",
     "text": [
      "0\n",
      "1\n",
      "2\n",
      "3\n",
      "4\n",
      "5\n",
      "6\n",
      "7\n",
      "8\n",
      "9\n",
      "10\n",
      "11\n"
     ]
    }
   ],
   "source": [
    "for i in np.nditer(x):\n",
    "    print(i)"
   ]
  },
  {
   "cell_type": "code",
   "execution_count": null,
   "id": "84a07c08-143b-4c1e-be5d-f9a46bdbab6f",
   "metadata": {},
   "outputs": [],
   "source": []
  }
 ],
 "metadata": {
  "kernelspec": {
   "display_name": "Python 3 (ipykernel)",
   "language": "python",
   "name": "python3"
  },
  "language_info": {
   "codemirror_mode": {
    "name": "ipython",
    "version": 3
   },
   "file_extension": ".py",
   "mimetype": "text/x-python",
   "name": "python",
   "nbconvert_exporter": "python",
   "pygments_lexer": "ipython3",
   "version": "3.12.3"
  }
 },
 "nbformat": 4,
 "nbformat_minor": 5
}
