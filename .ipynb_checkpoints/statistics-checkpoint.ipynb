{
 "cells": [
  {
   "cell_type": "markdown",
   "id": "cae42e49-e041-4fc8-a687-c4ec3c85a8c3",
   "metadata": {},
   "source": [
    "## Using Numpy"
   ]
  },
  {
   "cell_type": "code",
   "execution_count": 1,
   "id": "d45b8e74-74d2-449b-9ac5-fc6f04f71477",
   "metadata": {},
   "outputs": [],
   "source": [
    "import numpy as np\n",
    "from scipy import stats"
   ]
  },
  {
   "cell_type": "code",
   "execution_count": 2,
   "id": "e82633c3-0d3f-45c6-b7c5-b6e7fbc7c823",
   "metadata": {},
   "outputs": [
    {
     "name": "stdout",
     "output_type": "stream",
     "text": [
      "Mean: 5.11\n",
      "Median:  5.0\n",
      "Mode :  7\n",
      "Mode count:  3\n",
      "Variance:  5.65432098765432\n",
      "Standard Deviation:  2.3778816176702997\n"
     ]
    }
   ],
   "source": [
    "data = [4, 7, 2, 7, 3, 7, 9, 2, 5]\n",
    "arr = np.array(data)\n",
    "mean_val=np.mean(arr)\n",
    "median_val= np.median(arr)\n",
    "mode_val=stats.mode(arr)\n",
    "\n",
    "variance_val = np.var(arr)\n",
    "\n",
    "std_dev_val = np.std(arr)\n",
    "print(\"Mean:\", round(mean_val,2))\n",
    "print(\"Median: \", median_val)\n",
    "print(\"Mode : \", mode_val.mode)\n",
    "print(\"Mode count: \", mode_val.count)\n",
    "print(\"Variance: \",variance_val)\n",
    "print(\"Standard Deviation: \", std_dev_val)\n"
   ]
  },
  {
   "cell_type": "markdown",
   "id": "37157ede-dd86-41fb-8c0b-f340058f5918",
   "metadata": {},
   "source": [
    "## Using Statistics module "
   ]
  },
  {
   "cell_type": "code",
   "execution_count": 3,
   "id": "d1f7d06e-d674-43ae-a3f2-741b80347b3c",
   "metadata": {},
   "outputs": [],
   "source": [
    "import statistics as stats\n",
    "\n",
    "data = [4, 7, 2, 7, 3, 9, 2, 5]\n",
    "\n",
    "mean_val=np.mean(data)\n",
    "median_val= np.median(data)\n",
    "mode_val=stats.mode(data)\n",
    "\n",
    "variance_val = np.var(data)\n",
    "\n",
    "std_dev_val = np.std(data)"
   ]
  },
  {
   "cell_type": "code",
   "execution_count": 4,
   "id": "3ecbfb54-326e-4ec7-9b90-59d6039e5594",
   "metadata": {},
   "outputs": [
    {
     "name": "stdout",
     "output_type": "stream",
     "text": [
      "Mean: 4.88\n",
      "Median:  4.5\n",
      "Mode :  7\n",
      "Variance:  5.859375\n",
      "Standard Deviation:  2.4206145913796355\n"
     ]
    }
   ],
   "source": [
    "print(\"Mean:\", round(mean_val,2))\n",
    "print(\"Median: \", median_val)\n",
    "print(\"Mode : \", mode_val)\n",
    "print(\"Variance: \",variance_val)\n",
    "print(\"Standard Deviation: \", std_dev_val)"
   ]
  },
  {
   "cell_type": "markdown",
   "id": "4936080a-e32e-4f87-9d1f-66b8f145ea52",
   "metadata": {},
   "source": [
    "## Without library"
   ]
  },
  {
   "cell_type": "code",
   "execution_count": 5,
   "id": "e8946a52-4e11-4e4c-afdd-9a164fb42049",
   "metadata": {},
   "outputs": [
    {
     "name": "stdout",
     "output_type": "stream",
     "text": [
      "Data: [2, 4, 4, 4, 5, 5, 7, 9]\n",
      "Mean: 5.0\n",
      "Median: 4.5\n",
      "Mode: [4]\n",
      "Variance: 4.0\n",
      "Standard Deviation: 2.0\n"
     ]
    }
   ],
   "source": [
    "# Example list\n",
    "data = [2, 4, 4, 4, 5, 5, 7, 9]\n",
    "\n",
    "# 1. Mean\n",
    "mean_val = sum(data) / len(data)\n",
    "\n",
    "# 2. Median\n",
    "sorted_data = sorted(data)\n",
    "n = len(sorted_data)\n",
    "if n % 2 == 0:   # even\n",
    "    median_val = (sorted_data[n//2 - 1] + sorted_data[n//2]) / 2\n",
    "else:            # odd\n",
    "    median_val = sorted_data[n//2]\n",
    "\n",
    "# 3. Mode\n",
    "freq = {}\n",
    "for num in data:\n",
    "    freq[num] = freq.get(num, 0) + 1\n",
    "max_count = max(freq.values())\n",
    "mode_val = [k for k, v in freq.items() if v == max_count]  # handles multiple modes\n",
    "\n",
    "# 4. Variance\n",
    "variance_val = sum((x - mean_val) ** 2 for x in data) / n\n",
    "\n",
    "# 5. Standard Deviation\n",
    "std_dev_val = variance_val ** 0.5\n",
    "\n",
    "# Display results\n",
    "print(\"Data:\", data)\n",
    "print(\"Mean:\", mean_val)\n",
    "print(\"Median:\", median_val)\n",
    "print(\"Mode:\", mode_val)\n",
    "print(\"Variance:\", variance_val)\n",
    "print(\"Standard Deviation:\", std_dev_val)\n"
   ]
  },
  {
   "cell_type": "code",
   "execution_count": null,
   "id": "c007c2b0-75ed-499a-a455-5ec1e20165b6",
   "metadata": {},
   "outputs": [],
   "source": []
  }
 ],
 "metadata": {
  "kernelspec": {
   "display_name": "Python 3 (ipykernel)",
   "language": "python",
   "name": "python3"
  },
  "language_info": {
   "codemirror_mode": {
    "name": "ipython",
    "version": 3
   },
   "file_extension": ".py",
   "mimetype": "text/x-python",
   "name": "python",
   "nbconvert_exporter": "python",
   "pygments_lexer": "ipython3",
   "version": "3.12.3"
  }
 },
 "nbformat": 4,
 "nbformat_minor": 5
}
