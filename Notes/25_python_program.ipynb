{
 "cells": [
  {
   "cell_type": "code",
   "execution_count": 2,
   "id": "6ac290e3-82cd-49e4-88b4-ca9a918d8f60",
   "metadata": {},
   "outputs": [
    {
     "name": "stdin",
     "output_type": "stream",
     "text": [
      "Enter which table want to print: 6\n"
     ]
    },
    {
     "name": "stdout",
     "output_type": "stream",
     "text": [
      "1 * 6 = 6\n",
      "2 * 6 = 12\n",
      "3 * 6 = 18\n",
      "4 * 6 = 24\n",
      "5 * 6 = 30\n",
      "6 * 6 = 36\n",
      "7 * 6 = 42\n",
      "8 * 6 = 48\n",
      "9 * 6 = 54\n",
      "10 * 6 = 60\n"
     ]
    }
   ],
   "source": [
    "# 1.\tWrite a python program to print multiplication table.\n",
    "mul_tab = int(input(\"Enter which table want to print:\"))\n",
    "for i in range(1, 11):\n",
    "    print(f\"{i} * {mul_tab} = {i * mul_tab}\")\n"
   ]
  },
  {
   "cell_type": "code",
   "execution_count": 4,
   "id": "a67f96a5-c14d-42d1-b5ea-ef7d482683ac",
   "metadata": {},
   "outputs": [
    {
     "name": "stdin",
     "output_type": "stream",
     "text": [
      "Enter a year: 2000\n"
     ]
    },
    {
     "name": "stdout",
     "output_type": "stream",
     "text": [
      "2000 is a leap year\n"
     ]
    }
   ],
   "source": [
    "# 2.\tWrite a Python Program to Check Leap Year.\n",
    "def is_leap_year(year):\n",
    "    if year % 4 == 0:\n",
    "        if (year % 100 != 0 or year % 400 == 0):\n",
    "            return True\n",
    "    return False\n",
    "year = int(input(\"Enter a year:\"))\n",
    "if is_leap_year(year):\n",
    "    print(f\"{year} is a leap year\")\n",
    "else:\n",
    "    print(f\"{year} is not a leap year\")"
   ]
  },
  {
   "cell_type": "code",
   "execution_count": 8,
   "id": "c2b8dd5e-027d-457a-9fcf-96c1b07ba7a4",
   "metadata": {},
   "outputs": [
    {
     "name": "stdin",
     "output_type": "stream",
     "text": [
      "Enter a number to check prime: 6\n"
     ]
    },
    {
     "name": "stdout",
     "output_type": "stream",
     "text": [
      "6 is not a prime number\n"
     ]
    }
   ],
   "source": [
    "# 3.\tWrite a Python Program to Check Prime Number.\n",
    "num = int(input(\"Enter a number to check prime:\"))\n",
    "is_prime = True\n",
    "if num > 1:\n",
    "    for i in range(2, num):\n",
    "        if num % i == 0:\n",
    "            is_prime = False\n",
    "            break\n",
    "        else:\n",
    "            is_prime = True\n",
    "    if is_prime:\n",
    "        print(f\"{num} is a prime number\")\n",
    "    else:\n",
    "        print(f\"{num} is not a prime number\")\n",
    "else:\n",
    "    print(f\"{num} is not a prime number\")\n",
    "    "
   ]
  },
  {
   "cell_type": "code",
   "execution_count": 11,
   "id": "25398cea-88f5-4ace-9018-53382d9b221c",
   "metadata": {},
   "outputs": [
    {
     "name": "stdin",
     "output_type": "stream",
     "text": [
      "Enter start number: 1\n",
      "Enter end number: 12\n"
     ]
    },
    {
     "name": "stdout",
     "output_type": "stream",
     "text": [
      "Prime number between 1 and 12 are: \n",
      "2 3 5 7 11 "
     ]
    }
   ],
   "source": [
    "# 4.\tWrite a Python Program to Print all Prime Numbers in an Interval of 1-10.\n",
    "start = int(input(\"Enter start number:\"))\n",
    "end = int(input(\"Enter end number:\"))\n",
    "print(f\"Prime number between {start} and {end} are: \")\n",
    "for num in range(start, end +1):\n",
    "    is_prime = True\n",
    "    if num > 1:\n",
    "        for i in range(2, num):\n",
    "            if num % i == 0:\n",
    "                is_prime = False\n",
    "                break\n",
    "        else:\n",
    "            print(num, end= \" \")\n",
    "            "
   ]
  },
  {
   "cell_type": "code",
   "execution_count": 13,
   "id": "bd30734f-af8b-4f53-a804-d24eb7486c76",
   "metadata": {},
   "outputs": [
    {
     "name": "stdin",
     "output_type": "stream",
     "text": [
      "Enter a number 5\n"
     ]
    },
    {
     "name": "stdout",
     "output_type": "stream",
     "text": [
      "The factorial of 5 is 120\n"
     ]
    }
   ],
   "source": [
    "# 5.\tWrite a Python Program to Find the Factorial of a Number\n",
    "num = int(input(\"Enter a number\"))\n",
    "if num < 0:\n",
    "    print(\"There are no factorial for nrgative number\")\n",
    "elif num == 0 or num == 1:\n",
    "    print(\"Factorial is 1\")\n",
    "else:\n",
    "    factorial = 1\n",
    "    for i in range(1, num+1):\n",
    "        factorial *= i\n",
    "print(f\"The factorial of {num} is {factorial}\")"
   ]
  },
  {
   "cell_type": "code",
   "execution_count": 14,
   "id": "5cbd78cb-7277-4a22-bc9c-238e709d183c",
   "metadata": {},
   "outputs": [
    {
     "name": "stdin",
     "output_type": "stream",
     "text": [
      "Enter as number: 5\n"
     ]
    },
    {
     "name": "stdout",
     "output_type": "stream",
     "text": [
      "The factorial of 5 is 120\n"
     ]
    }
   ],
   "source": [
    "# 5.\tWrite a Python Program to Find the Factorial of a Number using recursion\n",
    "def factorial(num):\n",
    "    if num == 0 or num == 1:\n",
    "        return 1\n",
    "    else:\n",
    "        return num * factorial(num -1)\n",
    "num = int(input(\"Enter as number:\"))\n",
    "if num < 0:\n",
    "    print(\"There are no factorial for negative number\")\n",
    "else:\n",
    "    print(f\"The factorial of {num} is {factorial(num)}\")"
   ]
  },
  {
   "cell_type": "code",
   "execution_count": 15,
   "id": "7a955cde-b446-40e7-a6e9-cd9dba86dee9",
   "metadata": {},
   "outputs": [
    {
     "name": "stdin",
     "output_type": "stream",
     "text": [
      "Enter number of terms: 5\n"
     ]
    },
    {
     "name": "stdout",
     "output_type": "stream",
     "text": [
      "0 1 1 2 3 "
     ]
    }
   ],
   "source": [
    "# 6.\tWrite a Python Program to Print the Fibonacci sequence.\n",
    "num = int(input(\"Enter number of terms:\"))\n",
    "a , b = 0, 1\n",
    "if num < 0:\n",
    "    print(\"Please enter a positive number.\")\n",
    "elif num == 1:\n",
    "    print(a)\n",
    "else:\n",
    "    print(a , b , end = \" \")\n",
    "    for _ in range(2, num):\n",
    "        c = a + b\n",
    "        print(c, end =  \" \")\n",
    "        a , b = b, c"
   ]
  },
  {
   "cell_type": "code",
   "execution_count": 22,
   "id": "8111125e-c1ff-4d62-bd14-8e3344f9a0bd",
   "metadata": {},
   "outputs": [
    {
     "name": "stdin",
     "output_type": "stream",
     "text": [
      "Enter number of terms:  5\n"
     ]
    },
    {
     "name": "stdout",
     "output_type": "stream",
     "text": [
      "Fibonacci Series are:\n",
      "0 1 1 2 3 "
     ]
    }
   ],
   "source": [
    "# 6.\tWrite a Python Program to Print the Fibonacci sequence using recursion.\n",
    "def fibonacci(n):\n",
    "    if n == 0:\n",
    "        return 0\n",
    "    elif n == 1:\n",
    "        return 1\n",
    "    else:\n",
    "        return fibonacci(n-1) + fibonacci(n - 2)\n",
    "terms = int(input(\"Enter number of terms: \"))\n",
    "print(\"Fibonacci Series are:\")\n",
    "for i in range(terms):\n",
    "    print(fibonacci(i), end = \" \")"
   ]
  },
  {
   "cell_type": "code",
   "execution_count": 25,
   "id": "1fc60d1f-ef59-43f8-9da9-6f7dd94c0790",
   "metadata": {},
   "outputs": [
    {
     "name": "stdin",
     "output_type": "stream",
     "text": [
      "Enter number to check Armstrong 156\n"
     ]
    },
    {
     "name": "stdout",
     "output_type": "stream",
     "text": [
      "156 is not an Armstrong number.\n"
     ]
    }
   ],
   "source": [
    "# 7.\tWrite a Python Program to Check Armstrong Number?\n",
    "num = int(input(\"Enter number to check Armstrong\"))\n",
    "power = len(str(num))\n",
    "sum_of_digits = 0\n",
    "temp = num\n",
    "while temp > 0:\n",
    "    digit = temp % 10\n",
    "    sum_of_digits += digit ** power\n",
    "    temp = temp // 10\n",
    "if num == sum_of_digits:\n",
    "    print(f\"{num} is a Armstrong number\")\n",
    "else:\n",
    "    print(f\"{num} is not an Armstrong number.\")"
   ]
  },
  {
   "cell_type": "code",
   "execution_count": 1,
   "id": "1f6539a8-2cdb-4841-8836-3734a65ad23d",
   "metadata": {},
   "outputs": [
    {
     "name": "stdin",
     "output_type": "stream",
     "text": [
      "Enter start number: 1\n",
      "Enter end number: 1000\n"
     ]
    },
    {
     "name": "stdout",
     "output_type": "stream",
     "text": [
      "The armstrong number between 1 and 1000\n",
      "1\n",
      "2\n",
      "3\n",
      "4\n",
      "5\n",
      "6\n",
      "7\n",
      "8\n",
      "9\n",
      "153\n",
      "370\n",
      "371\n",
      "407\n"
     ]
    }
   ],
   "source": [
    "# 8.\tWrite a Python Program to Find Armstrong Number in an Interval.\n",
    "def is_armstrong(num):\n",
    "    digits = str(num)\n",
    "    power  = len(digits)\n",
    "    total = sum(int(digit) ** power for digit in digits)\n",
    "    return num == total\n",
    "\n",
    "start = int(input(\"Enter start number:\"))\n",
    "end = int(input(\"Enter end number:\"))\n",
    "\n",
    "print(f\"The armstrong number between {start} and {end}\")\n",
    "for i in range(start, end +1):\n",
    "    if is_armstrong(i):\n",
    "        print(i)\n",
    "                "
   ]
  },
  {
   "cell_type": "code",
   "execution_count": 3,
   "id": "f1a69a84-3df6-4621-8add-e17ae2ea03e0",
   "metadata": {},
   "outputs": [
    {
     "name": "stdin",
     "output_type": "stream",
     "text": [
      "Enter 1st number:  24\n",
      "Enter 2nd number:  48\n"
     ]
    },
    {
     "name": "stdout",
     "output_type": "stream",
     "text": [
      "LCM of 24 and 48 is 48\n"
     ]
    }
   ],
   "source": [
    "# 9.\tWrite a Python Program to Find LCM.\n",
    "def lcm(x, y):\n",
    "    if x> y:\n",
    "        greater = x\n",
    "    else:\n",
    "        greater = y\n",
    "\n",
    "    while True:\n",
    "        if greater % x == 0 and greater % y == 0:\n",
    "            lcm = greater\n",
    "            break\n",
    "        greater += 1\n",
    "    return lcm\n",
    "\n",
    "num1 = int(input(\"Enter 1st number: \"))\n",
    "num2 = int(input(\"Enter 2nd number: \"))\n",
    "\n",
    "print(f\"LCM of {num1} and {num2} is {lcm(num1, num2)}\")"
   ]
  },
  {
   "cell_type": "code",
   "execution_count": 6,
   "id": "8cfecbe3-1e62-473f-83a3-2759b3048127",
   "metadata": {},
   "outputs": [
    {
     "name": "stdin",
     "output_type": "stream",
     "text": [
      "Enter 1st number:  4\n",
      "Enter 2nd number:  6\n"
     ]
    },
    {
     "name": "stdout",
     "output_type": "stream",
     "text": [
      "HCF of 4 and 6 is 2\n"
     ]
    }
   ],
   "source": [
    "# 10.\tWrite a Python Program to Find HCF.\n",
    "def hcf(x, y):\n",
    "    if x < y:\n",
    "        smaller = x\n",
    "    else:\n",
    "        smaller = y\n",
    "\n",
    "    for i in range(1, smaller+1):\n",
    "        if x % i == 0 and y % i == 0:\n",
    "            hcf = i\n",
    "    return hcf\n",
    "num1 = int(input(\"Enter 1st number: \"))\n",
    "num2 = int(input(\"Enter 2nd number: \"))\n",
    "\n",
    "print(f\"HCF of {num1} and {num2} is {hcf(num1, num2)}\")"
   ]
  },
  {
   "cell_type": "code",
   "execution_count": 4,
   "id": "23812a1c-fe9d-4d6f-8dbd-dd99edf7cbc4",
   "metadata": {},
   "outputs": [
    {
     "name": "stdin",
     "output_type": "stream",
     "text": [
      "enter character: A\n"
     ]
    },
    {
     "name": "stdout",
     "output_type": "stream",
     "text": [
      "The ASCII value of A is 65\n"
     ]
    }
   ],
   "source": [
    "# 11.\tWrite a Python Program to Find ASCII value of a character.\n",
    "char = input(\"enter character:\")\n",
    "print(f\"The ASCII value of {char} is {ord(char)}\")"
   ]
  },
  {
   "cell_type": "code",
   "execution_count": 8,
   "id": "ce81674b-7ca8-4b44-916c-a6c0252f7fbb",
   "metadata": {},
   "outputs": [
    {
     "name": "stdout",
     "output_type": "stream",
     "text": [
      "Calculator\n"
     ]
    },
    {
     "name": "stdin",
     "output_type": "stream",
     "text": [
      "Enter 1st number: 4\n",
      "Enter operator ( + , - , * , / ) : *\n",
      "Enter 2nd number:  15\n"
     ]
    },
    {
     "name": "stdout",
     "output_type": "stream",
     "text": [
      "Result is :  60.0\n"
     ]
    }
   ],
   "source": [
    "# 12.\tWrite a Python Program to Make a Simple Calculator with 4 basic mathematical operations.\n",
    "print(\"Calculator\")\n",
    "a = float(input(\"Enter 1st number:\"))\n",
    "op = input(\"Enter operator ( + , - , * , / ) :\")\n",
    "b = float(input(\"Enter 2nd number: \"))\n",
    "\n",
    "if op == \"+\":\n",
    "    print(\"Result is : \", a + b)\n",
    "elif op == \"-\":\n",
    "    print(\"Result is : \", a - b)\n",
    "elif op == \"*\":\n",
    "    print(\"Result is : \", a * b)\n",
    "elif op == \"/\":\n",
    "    if b != 0:\n",
    "        print(\"Result is : \", a /b )\n",
    "    else:\n",
    "        print(\"Error : Division by Zero \")\n",
    "else:\n",
    "    print(\"Invalid Operator\")\n",
    "        "
   ]
  },
  {
   "cell_type": "code",
   "execution_count": 12,
   "id": "374a03a3-2703-45bc-a4cd-977402b0f4da",
   "metadata": {},
   "outputs": [
    {
     "name": "stdin",
     "output_type": "stream",
     "text": [
      "Enter how many terms in fibonacci?  7\n"
     ]
    },
    {
     "name": "stdout",
     "output_type": "stream",
     "text": [
      "0 1 1 2 3 5 8 "
     ]
    }
   ],
   "source": [
    "# 13.\tWrite a Python Program to Display Fibonacci Sequence Using Recursion.\n",
    "def fibonacci(n):\n",
    "    if n <= 1:\n",
    "        return n\n",
    "    else:\n",
    "        return fibonacci(n-1) + fibonacci(n-2)\n",
    "terms = int(input(\"Enter how many terms in fibonacci? \"))\n",
    "for i in range(terms):\n",
    "    print(fibonacci(i) , end = \" \")"
   ]
  },
  {
   "cell_type": "code",
   "execution_count": 21,
   "id": "0534afc5-1a1f-40a2-b3d8-c15676db71c3",
   "metadata": {},
   "outputs": [
    {
     "name": "stdin",
     "output_type": "stream",
     "text": [
      "Enter the number : 5\n"
     ]
    },
    {
     "name": "stdout",
     "output_type": "stream",
     "text": [
      "Factorial of 5 is 120\n"
     ]
    }
   ],
   "source": [
    "# 14.\tWrite a Python Program to Find Factorial of Number Using Recursion.\n",
    "def  factorial(n):\n",
    "    if n  == 0 or n == 1:\n",
    "        return 1\n",
    "    return n * factorial((n-1))\n",
    "num = int(input(\"Enter the number :\"))\n",
    "print(f\"Factorial of {num} is {factorial(5)}\")"
   ]
  },
  {
   "cell_type": "code",
   "execution_count": 37,
   "id": "79cecc09-c6fa-4926-a624-5709fb5c9308",
   "metadata": {},
   "outputs": [
    {
     "name": "stdout",
     "output_type": "stream",
     "text": [
      "17\n"
     ]
    }
   ],
   "source": [
    "# 15.\tWrite a Python Program to find sum of array\n",
    "arr = [ 1 ,3 , 6 ,7]\n",
    "total = 0\n",
    "for i in range(len(arr)):\n",
    "    total += arr[i]\n",
    "print(total)"
   ]
  },
  {
   "cell_type": "code",
   "execution_count": 1,
   "id": "be745364-7201-41bb-8780-81ed5ff76550",
   "metadata": {},
   "outputs": [
    {
     "name": "stdout",
     "output_type": "stream",
     "text": [
      "17\n"
     ]
    }
   ],
   "source": [
    "# 15.\tWrite a Python Program to find sum of array\n",
    "arr = [ 1 ,3 , 6 ,7]\n",
    "b = sum(arr)\n",
    "print(b)"
   ]
  },
  {
   "cell_type": "code",
   "execution_count": 3,
   "id": "5112c22e-8d81-4d65-a3d3-caab00e357d8",
   "metadata": {},
   "outputs": [
    {
     "name": "stdin",
     "output_type": "stream",
     "text": [
      "Enter numbers separated by space:  1 4 6 8 9\n"
     ]
    },
    {
     "name": "stdout",
     "output_type": "stream",
     "text": [
      "28\n"
     ]
    }
   ],
   "source": [
    "# 15.\tWrite a Python Program to find sum of array\n",
    "arr = list(map(int, input(\"Enter numbers separated by space: \").split()))\n",
    "# result = sum(arr)\n",
    "# print(\"The sum of array is :\", result)\n",
    "print(sum(arr))\n"
   ]
  },
  {
   "cell_type": "code",
   "execution_count": 35,
   "id": "0de0a442-4790-4107-8149-409684e5c81f",
   "metadata": {},
   "outputs": [
    {
     "name": "stdin",
     "output_type": "stream",
     "text": [
      "Enter numbers separated by space:  1 2\n"
     ]
    },
    {
     "name": "stdout",
     "output_type": "stream",
     "text": [
      "Largest element: 2\n"
     ]
    }
   ],
   "source": [
    "# 16.\tWrite a Python Program to find largest element in an array.\n",
    "arr = list(map(int, input(\"Enter numbers separated by space: \").split()))\n",
    "print(\"Largest element:\", max(arr))"
   ]
  },
  {
   "cell_type": "code",
   "execution_count": 6,
   "id": "c5654ed1-a7b0-4c4a-92f6-8bf31b80376e",
   "metadata": {},
   "outputs": [
    {
     "name": "stdin",
     "output_type": "stream",
     "text": [
      "Enter strings: das abi\n"
     ]
    },
    {
     "name": "stdout",
     "output_type": "stream",
     "text": [
      "abi das\n"
     ]
    }
   ],
   "source": [
    "# 17.\tWrite a Python Program to Sort Words in Alphabetic Order.\n",
    "words = input(\"Enter strings:\").split()\n",
    "words.sort()\n",
    "print(' '.join(words))"
   ]
  },
  {
   "cell_type": "code",
   "execution_count": 8,
   "id": "959ba6b4-5ff7-42db-81fc-c728de1dd677",
   "metadata": {},
   "outputs": [
    {
     "name": "stdin",
     "output_type": "stream",
     "text": [
      "Enter text: agjadg#@$%!$^\n"
     ]
    },
    {
     "name": "stdout",
     "output_type": "stream",
     "text": [
      "agjadg\n"
     ]
    }
   ],
   "source": [
    "# 18.\tWrite a Python Program to Remove Punctuation from a String.\n",
    "import string\n",
    "text = input(\"Enter text:\")\n",
    "cleaned = ''.join([ch for ch in text if ch not in string.punctuation])\n",
    "print(cleaned)"
   ]
  },
  {
   "cell_type": "code",
   "execution_count": 13,
   "id": "4dc6253b-a9a2-474e-8d9c-cc009a6a0a5e",
   "metadata": {},
   "outputs": [
    {
     "name": "stdin",
     "output_type": "stream",
     "text": [
      "Enter numbers:  1 4 3 2 5 6 3 2 \n"
     ]
    },
    {
     "name": "stdout",
     "output_type": "stream",
     "text": [
      "the 2nd largest number is 5\n",
      "[1, 2, 3, 4, 5, 6]\n"
     ]
    }
   ],
   "source": [
    "# 19.\tWrite a Python program to find second largest number in a list.\n",
    "lis = list(map(int, input(\"Enter numbers: \").split()))\n",
    "uniq_lis = list(set(lis))\n",
    "uniq_lis.sort()\n",
    "if len(uniq_lis) >=  2:\n",
    "    print(f\"the 2nd largest number is {uniq_lis[-2]}\")\n",
    "    \n",
    "print(uniq_lis)"
   ]
  },
  {
   "cell_type": "code",
   "execution_count": 17,
   "id": "60dc77db-3171-437e-811c-a419ded7286c",
   "metadata": {},
   "outputs": [
    {
     "name": "stdout",
     "output_type": "stream",
     "text": [
      "[2, 4, 8, 10, 12, 14]\n"
     ]
    }
   ],
   "source": [
    "# 20.\tWrite a Python program to print even numbers in a list\n",
    "lis = [1, 2 , 4, 7, 8,9 ,10 ,12,14]\n",
    "even_lis = []\n",
    "for i in range(len(lis)):\n",
    "    if lis[i] % 2 == 0:\n",
    "        even_lis.append(lis[i])\n",
    "print(even_lis)\n",
    "        "
   ]
  },
  {
   "cell_type": "code",
   "execution_count": 19,
   "id": "b90c0d7a-a6bf-4308-96cd-6a8fb7fac2f9",
   "metadata": {},
   "outputs": [
    {
     "name": "stdin",
     "output_type": "stream",
     "text": [
      "Enter the numbers: 1 2 4 2 \n"
     ]
    },
    {
     "name": "stdout",
     "output_type": "stream",
     "text": [
      "[2, 4, 2]\n"
     ]
    }
   ],
   "source": [
    "# 20.\tWrite a Python program to print even numbers in a list\n",
    "nums = list(map(int, input(\"Enter the numbers:\").split()))\n",
    "even = [x for x in nums if x % 2 == 0]\n",
    "print(even)\n",
    "        "
   ]
  },
  {
   "cell_type": "code",
   "execution_count": 38,
   "id": "e29d8251-d47b-401a-9087-fa560684aa04",
   "metadata": {},
   "outputs": [
    {
     "name": "stdin",
     "output_type": "stream",
     "text": [
      "Enter text: a d\n",
      "Enter target character: d\n"
     ]
    },
    {
     "name": "stdout",
     "output_type": "stream",
     "text": [
      "['a', 'd']\n",
      "The 'd' is appers 1\n"
     ]
    }
   ],
   "source": [
    "# 21.\tWrite a Python program to Count occurrences of an element in a list.\n",
    "words = input(\"Enter text:\").split()\n",
    "target = input(\"Enter target character:\")\n",
    "print(words)\n",
    "print(f\"The '{target}' is appers {words.count(target)}\")"
   ]
  },
  {
   "cell_type": "code",
   "execution_count": 41,
   "id": "af699454-bc9e-4648-aedf-50741b818305",
   "metadata": {},
   "outputs": [
    {
     "name": "stdin",
     "output_type": "stream",
     "text": [
      "Enter a string: abinasd#$#!\n"
     ]
    },
    {
     "name": "stdout",
     "output_type": "stream",
     "text": [
      "String contain puncations\n"
     ]
    }
   ],
   "source": [
    "# 22.\tWrite a Python Program to check if a string contains any special character.\n",
    "\n",
    "import string\n",
    "text = input(\"Enter a string:\")\n",
    "if (ch in string.punctuation for ch in text):\n",
    "    print(\"String contain puncations\")\n",
    "else:\n",
    "    print(\"String is not contains punctuations\")"
   ]
  },
  {
   "cell_type": "code",
   "execution_count": 22,
   "id": "cabdbde7-7ace-4374-9b6a-0429e2f54521",
   "metadata": {},
   "outputs": [
    {
     "name": "stdout",
     "output_type": "stream",
     "text": [
      "Sum of all values in dictionary 60\n"
     ]
    }
   ],
   "source": [
    "# 23.\tWrite a Python program to find the sum of all items in a dictionary.\n",
    "d = {'a': 10, 'b': 20, 'c': 30} \n",
    "print(\"Sum of all values in dictionary\",sum(d.values()))"
   ]
  },
  {
   "cell_type": "code",
   "execution_count": 3,
   "id": "8f54b934-5f44-4cf8-983e-345ee470e5af",
   "metadata": {},
   "outputs": [
    {
     "name": "stdin",
     "output_type": "stream",
     "text": [
      "Enter a number:  10\n"
     ]
    },
    {
     "name": "stdout",
     "output_type": "stream",
     "text": [
      "The even number between 1 to 10 : [2, 4, 6, 8, 10]\n"
     ]
    }
   ],
   "source": [
    "# 24.\tUsing list comprehensions, create a function that finds all even numbers from 1 to the given number.\n",
    "def even_number(n):\n",
    "    return [ x for x in range(1, (n +1)) if x % 2 == 0]\n",
    "num =  int(input(\"Enter a number: \"))\n",
    "print(f\"The even number between 1 to {num} : {even_number(num)}\")"
   ]
  },
  {
   "cell_type": "code",
   "execution_count": 30,
   "id": "be33e901-370d-436c-b9b7-599c018ff8ef",
   "metadata": {},
   "outputs": [
    {
     "name": "stdin",
     "output_type": "stream",
     "text": [
      "Enter a: 1\n",
      "Enter b: -1\n",
      "Enter c: -6\n"
     ]
    },
    {
     "name": "stdout",
     "output_type": "stream",
     "text": [
      "Roots are real and different: 3.0 and -2.0\n"
     ]
    }
   ],
   "source": [
    "# 25.\tWrite a Python program to solve quadratic equation.\n",
    "import math\n",
    "a = float(input(\"Enter a:\"))\n",
    "b = float(input(\"Enter b:\"))\n",
    "c = float(input(\"Enter c:\"))\n",
    "d = (b ** 2) - (4 * a * c)\n",
    "if d > 0:\n",
    "    root1 = (-b + math.sqrt(d)) / (2 * a)\n",
    "    root2 = (-b - math.sqrt(d)) / (2 * a)\n",
    "    print(f\"Roots are real and different: {root1} and {root2}\")\n",
    "elif d == 0:\n",
    "    root = -b / ( 2 * a)\n",
    "    print(f\"The roots are equal : {root}\")\n",
    "elif d < 0:\n",
    "    real = -b / (2 * a)\n",
    "    imga = round(math.sqrt(-d) / (2 * a), 2)\n",
    "    print(f\"The roots are complex: {real}+{imga}i and {real}-{imga}i\")"
   ]
  },
  {
   "cell_type": "code",
   "execution_count": null,
   "id": "e2a3b251-d954-4bca-b124-d9feafe5f705",
   "metadata": {},
   "outputs": [],
   "source": []
  },
  {
   "cell_type": "code",
   "execution_count": null,
   "id": "e7840724-4daa-4b89-9853-df9153ff60eb",
   "metadata": {},
   "outputs": [],
   "source": []
  }
 ],
 "metadata": {
  "kernelspec": {
   "display_name": "Python 3 (ipykernel)",
   "language": "python",
   "name": "python3"
  },
  "language_info": {
   "codemirror_mode": {
    "name": "ipython",
    "version": 3
   },
   "file_extension": ".py",
   "mimetype": "text/x-python",
   "name": "python",
   "nbconvert_exporter": "python",
   "pygments_lexer": "ipython3",
   "version": "3.12.3"
  }
 },
 "nbformat": 4,
 "nbformat_minor": 5
}
